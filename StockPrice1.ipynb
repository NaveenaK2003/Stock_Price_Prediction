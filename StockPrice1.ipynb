{
  "nbformat": 4,
  "nbformat_minor": 0,
  "metadata": {
    "colab": {
      "provenance": [],
      "mount_file_id": "1gGSvRjRUda8N9AS_d91vZuV2uFWRboFS",
      "authorship_tag": "ABX9TyMvpOqsWPGSwH6RqGtr3lg2",
      "include_colab_link": true
    },
    "kernelspec": {
      "name": "python3",
      "display_name": "Python 3"
    },
    "language_info": {
      "name": "python"
    }
  },
  "cells": [
    {
      "cell_type": "markdown",
      "metadata": {
        "id": "view-in-github",
        "colab_type": "text"
      },
      "source": [
        "<a href=\"https://colab.research.google.com/github/NaveenaK2003/Stock_Price_Prediction/blob/main/StockPrice1.ipynb\" target=\"_parent\"><img src=\"https://colab.research.google.com/assets/colab-badge.svg\" alt=\"Open In Colab\"/></a>"
      ]
    },
    {
      "cell_type": "code",
      "source": [
        "import pandas as pd\n",
        "from vaderSentiment.vaderSentiment import SentimentIntensityAnalyzer\n",
        "\n",
        "# Load CSVs\n",
        "price_df = pd.read_csv('/content/drive/MyDrive/Tesla_Price.csv')\n",
        "tweet_df = pd.read_csv('/content/drive/MyDrive/Tesla.csv')\n",
        "\n",
        "# Clean price data\n",
        "price_df['Date'] = pd.to_datetime(price_df['Date'], format='%b %d, %Y', errors='coerce')\n",
        "price_df['Volume'] = price_df['Volume'].str.replace(',', '').astype(float)\n",
        "\n",
        "# Clean tweet data\n",
        "tweet_df['Date'] = pd.to_datetime(tweet_df['Date']).dt.date\n",
        "\n",
        "# Sentiment analysis\n",
        "analyzer = SentimentIntensityAnalyzer()\n",
        "tweet_df['Sentiment'] = tweet_df['Tweet'].astype(str).apply(lambda x: analyzer.polarity_scores(x)['compound'])\n",
        "\n",
        "# Average sentiment per day\n",
        "daily_sentiment = tweet_df.groupby('Date')['Sentiment'].mean().reset_index()\n",
        "daily_sentiment['Date'] = pd.to_datetime(daily_sentiment['Date'])\n",
        "\n",
        "# Merge\n",
        "merged_df = pd.merge(price_df, daily_sentiment, on='Date', how='inner')\n",
        "merged_df = merged_df[['Date', 'Close', 'Sentiment']].sort_values('Date')\n",
        "merged_df.reset_index(drop=True, inplace=True)\n",
        "\n",
        "# Save for modeling\n",
        "merged_df.to_csv(\"/content/drive/MyDrive/merged.csv\", index=False)\n",
        "\n",
        "# Show preview\n",
        "print(merged_df.head())"
      ],
      "metadata": {
        "colab": {
          "base_uri": "https://localhost:8080/"
        },
        "id": "6H0RLNN1LUd8",
        "outputId": "53842267-c3f3-4e8c-fe74-728fb1a7fad3"
      },
      "execution_count": 9,
      "outputs": [
        {
          "output_type": "stream",
          "name": "stdout",
          "text": [
            "        Date   Close  Sentiment\n",
            "0 2021-09-30  258.49   0.251634\n",
            "1 2021-10-01  258.41   0.222412\n",
            "2 2021-10-04  260.51   0.151775\n",
            "3 2021-10-05  260.20   0.096692\n",
            "4 2021-10-06  260.92   0.229846\n"
          ]
        }
      ]
    },
    {
      "cell_type": "code",
      "source": [
        "# STEP 1: Install required libraries\n",
        "!pip install vaderSentiment --quiet\n",
        "!pip install tensorflow --quiet\n",
        "\n",
        "# STEP 2: Import Libraries\n",
        "import pandas as pd\n",
        "import numpy as np\n",
        "from sklearn.preprocessing import MinMaxScaler\n",
        "from sklearn.metrics import accuracy_score, precision_score, f1_score, confusion_matrix\n",
        "from tensorflow.keras.models import Sequential\n",
        "from tensorflow.keras.layers import LSTM, Dropout, Dense, BatchNormalization\n",
        "import matplotlib.pyplot as plt\n",
        "import seaborn as sns\n"
      ],
      "metadata": {
        "id": "oMIieDNtLwQn"
      },
      "execution_count": 17,
      "outputs": []
    },
    {
      "cell_type": "code",
      "source": [
        "# Upload your merged.csv file or use path if already there\n",
        "df = pd.read_csv(\"/content/drive/MyDrive/merged.csv\")\n",
        "df['Date'] = pd.to_datetime(df['Date'])\n",
        "df.sort_values('Date', inplace=True)\n",
        "df.reset_index(drop=True, inplace=True)\n"
      ],
      "metadata": {
        "id": "ntArccJvL6em"
      },
      "execution_count": 18,
      "outputs": []
    },
    {
      "cell_type": "code",
      "source": [
        "# Scale Close and Sentiment columns\n",
        "scaler = MinMaxScaler()\n",
        "scaled_data = scaler.fit_transform(df[['Close', 'Sentiment']])\n",
        "\n",
        "# Target: 1 if price increases next day, else 0\n",
        "movement = np.where(np.diff(scaled_data[:, 0], prepend=scaled_data[0][0]) > 0, 1, 0)\n",
        "\n",
        "# Create windowed sequences\n",
        "def create_sequences(data, labels, window=60):\n",
        "    X, y = [], []\n",
        "    for i in range(window, len(data) - 1):\n",
        "        X.append(data[i - window:i])\n",
        "        y.append(labels[i])\n",
        "    return np.array(X), np.array(y)\n",
        "\n",
        "X, y = create_sequences(scaled_data, movement)\n",
        "split = int(0.8 * len(X))\n",
        "X_train, X_test = X[:split], X[split:]\n",
        "y_train, y_test = y[:split], y[split:]\n"
      ],
      "metadata": {
        "id": "vUId_I-DMBXd"
      },
      "execution_count": 19,
      "outputs": []
    },
    {
      "cell_type": "code",
      "source": [
        "model = Sequential([\n",
        "    LSTM(128, return_sequences=True, input_shape=(X_train.shape[1], X_train.shape[2])),\n",
        "    Dropout(0.3),\n",
        "    BatchNormalization(),\n",
        "    LSTM(64),\n",
        "    Dense(32, activation='relu'),\n",
        "    Dense(1, activation='sigmoid')  # binary output\n",
        "])\n",
        "\n",
        "model.compile(optimizer='adam', loss='binary_crossentropy', metrics=['accuracy'])\n",
        "history = model.fit(X_train, y_train, epochs=30, batch_size=16, validation_data=(X_test, y_test))\n"
      ],
      "metadata": {
        "colab": {
          "base_uri": "https://localhost:8080/"
        },
        "id": "WDYbQQkzMEMk",
        "outputId": "126646b2-cf3e-43b2-e428-385e777cebfd"
      },
      "execution_count": 20,
      "outputs": [
        {
          "output_type": "stream",
          "name": "stdout",
          "text": [
            "Epoch 1/30\n",
            "\u001b[1m9/9\u001b[0m \u001b[32m━━━━━━━━━━━━━━━━━━━━\u001b[0m\u001b[37m\u001b[0m \u001b[1m11s\u001b[0m 189ms/step - accuracy: 0.5963 - loss: 0.6862 - val_accuracy: 0.4857 - val_loss: 0.6933\n",
            "Epoch 2/30\n",
            "\u001b[1m9/9\u001b[0m \u001b[32m━━━━━━━━━━━━━━━━━━━━\u001b[0m\u001b[37m\u001b[0m \u001b[1m2s\u001b[0m 160ms/step - accuracy: 0.5643 - loss: 0.6890 - val_accuracy: 0.5143 - val_loss: 0.6921\n",
            "Epoch 3/30\n",
            "\u001b[1m9/9\u001b[0m \u001b[32m━━━━━━━━━━━━━━━━━━━━\u001b[0m\u001b[37m\u001b[0m \u001b[1m3s\u001b[0m 200ms/step - accuracy: 0.6015 - loss: 0.6693 - val_accuracy: 0.5143 - val_loss: 0.6921\n",
            "Epoch 4/30\n",
            "\u001b[1m9/9\u001b[0m \u001b[32m━━━━━━━━━━━━━━━━━━━━\u001b[0m\u001b[37m\u001b[0m \u001b[1m3s\u001b[0m 307ms/step - accuracy: 0.5841 - loss: 0.6878 - val_accuracy: 0.5429 - val_loss: 0.6922\n",
            "Epoch 5/30\n",
            "\u001b[1m9/9\u001b[0m \u001b[32m━━━━━━━━━━━━━━━━━━━━\u001b[0m\u001b[37m\u001b[0m \u001b[1m2s\u001b[0m 201ms/step - accuracy: 0.6026 - loss: 0.6741 - val_accuracy: 0.6000 - val_loss: 0.6929\n",
            "Epoch 6/30\n",
            "\u001b[1m9/9\u001b[0m \u001b[32m━━━━━━━━━━━━━━━━━━━━\u001b[0m\u001b[37m\u001b[0m \u001b[1m2s\u001b[0m 203ms/step - accuracy: 0.5977 - loss: 0.6626 - val_accuracy: 0.4571 - val_loss: 0.6931\n",
            "Epoch 7/30\n",
            "\u001b[1m9/9\u001b[0m \u001b[32m━━━━━━━━━━━━━━━━━━━━\u001b[0m\u001b[37m\u001b[0m \u001b[1m2s\u001b[0m 172ms/step - accuracy: 0.5951 - loss: 0.6661 - val_accuracy: 0.4857 - val_loss: 0.6963\n",
            "Epoch 8/30\n",
            "\u001b[1m9/9\u001b[0m \u001b[32m━━━━━━━━━━━━━━━━━━━━\u001b[0m\u001b[37m\u001b[0m \u001b[1m1s\u001b[0m 89ms/step - accuracy: 0.5391 - loss: 0.7008 - val_accuracy: 0.4857 - val_loss: 0.7046\n",
            "Epoch 9/30\n",
            "\u001b[1m9/9\u001b[0m \u001b[32m━━━━━━━━━━━━━━━━━━━━\u001b[0m\u001b[37m\u001b[0m \u001b[1m1s\u001b[0m 122ms/step - accuracy: 0.6066 - loss: 0.6642 - val_accuracy: 0.5143 - val_loss: 0.6967\n",
            "Epoch 10/30\n",
            "\u001b[1m9/9\u001b[0m \u001b[32m━━━━━━━━━━━━━━━━━━━━\u001b[0m\u001b[37m\u001b[0m \u001b[1m2s\u001b[0m 211ms/step - accuracy: 0.5865 - loss: 0.6826 - val_accuracy: 0.4857 - val_loss: 0.6946\n",
            "Epoch 11/30\n",
            "\u001b[1m9/9\u001b[0m \u001b[32m━━━━━━━━━━━━━━━━━━━━\u001b[0m\u001b[37m\u001b[0m \u001b[1m3s\u001b[0m 334ms/step - accuracy: 0.6542 - loss: 0.6569 - val_accuracy: 0.4571 - val_loss: 0.6959\n",
            "Epoch 12/30\n",
            "\u001b[1m9/9\u001b[0m \u001b[32m━━━━━━━━━━━━━━━━━━━━\u001b[0m\u001b[37m\u001b[0m \u001b[1m3s\u001b[0m 320ms/step - accuracy: 0.5855 - loss: 0.6592 - val_accuracy: 0.4857 - val_loss: 0.7048\n",
            "Epoch 13/30\n",
            "\u001b[1m9/9\u001b[0m \u001b[32m━━━━━━━━━━━━━━━━━━━━\u001b[0m\u001b[37m\u001b[0m \u001b[1m1s\u001b[0m 154ms/step - accuracy: 0.6179 - loss: 0.6477 - val_accuracy: 0.4857 - val_loss: 0.7038\n",
            "Epoch 14/30\n",
            "\u001b[1m9/9\u001b[0m \u001b[32m━━━━━━━━━━━━━━━━━━━━\u001b[0m\u001b[37m\u001b[0m \u001b[1m2s\u001b[0m 169ms/step - accuracy: 0.5855 - loss: 0.6873 - val_accuracy: 0.4857 - val_loss: 0.6973\n",
            "Epoch 15/30\n",
            "\u001b[1m9/9\u001b[0m \u001b[32m━━━━━━━━━━━━━━━━━━━━\u001b[0m\u001b[37m\u001b[0m \u001b[1m3s\u001b[0m 182ms/step - accuracy: 0.5425 - loss: 0.6733 - val_accuracy: 0.4286 - val_loss: 0.6961\n",
            "Epoch 16/30\n",
            "\u001b[1m9/9\u001b[0m \u001b[32m━━━━━━━━━━━━━━━━━━━━\u001b[0m\u001b[37m\u001b[0m \u001b[1m1s\u001b[0m 142ms/step - accuracy: 0.5480 - loss: 0.6605 - val_accuracy: 0.4857 - val_loss: 0.6998\n",
            "Epoch 17/30\n",
            "\u001b[1m9/9\u001b[0m \u001b[32m━━━━━━━━━━━━━━━━━━━━\u001b[0m\u001b[37m\u001b[0m \u001b[1m2s\u001b[0m 97ms/step - accuracy: 0.5154 - loss: 0.6964 - val_accuracy: 0.4857 - val_loss: 0.7024\n",
            "Epoch 18/30\n",
            "\u001b[1m9/9\u001b[0m \u001b[32m━━━━━━━━━━━━━━━━━━━━\u001b[0m\u001b[37m\u001b[0m \u001b[1m2s\u001b[0m 132ms/step - accuracy: 0.5937 - loss: 0.6536 - val_accuracy: 0.5143 - val_loss: 0.6979\n",
            "Epoch 19/30\n",
            "\u001b[1m9/9\u001b[0m \u001b[32m━━━━━━━━━━━━━━━━━━━━\u001b[0m\u001b[37m\u001b[0m \u001b[1m1s\u001b[0m 134ms/step - accuracy: 0.6360 - loss: 0.6349 - val_accuracy: 0.4857 - val_loss: 0.6982\n",
            "Epoch 20/30\n",
            "\u001b[1m9/9\u001b[0m \u001b[32m━━━━━━━━━━━━━━━━━━━━\u001b[0m\u001b[37m\u001b[0m \u001b[1m1s\u001b[0m 137ms/step - accuracy: 0.6263 - loss: 0.6543 - val_accuracy: 0.4000 - val_loss: 0.6963\n",
            "Epoch 21/30\n",
            "\u001b[1m9/9\u001b[0m \u001b[32m━━━━━━━━━━━━━━━━━━━━\u001b[0m\u001b[37m\u001b[0m \u001b[1m1s\u001b[0m 81ms/step - accuracy: 0.6401 - loss: 0.6333 - val_accuracy: 0.4286 - val_loss: 0.7003\n",
            "Epoch 22/30\n",
            "\u001b[1m9/9\u001b[0m \u001b[32m━━━━━━━━━━━━━━━━━━━━\u001b[0m\u001b[37m\u001b[0m \u001b[1m1s\u001b[0m 98ms/step - accuracy: 0.5865 - loss: 0.6449 - val_accuracy: 0.4857 - val_loss: 0.7086\n",
            "Epoch 23/30\n",
            "\u001b[1m9/9\u001b[0m \u001b[32m━━━━━━━━━━━━━━━━━━━━\u001b[0m\u001b[37m\u001b[0m \u001b[1m1s\u001b[0m 93ms/step - accuracy: 0.6275 - loss: 0.6313 - val_accuracy: 0.4857 - val_loss: 0.7142\n",
            "Epoch 24/30\n",
            "\u001b[1m9/9\u001b[0m \u001b[32m━━━━━━━━━━━━━━━━━━━━\u001b[0m\u001b[37m\u001b[0m \u001b[1m1s\u001b[0m 110ms/step - accuracy: 0.6534 - loss: 0.6255 - val_accuracy: 0.4857 - val_loss: 0.7040\n",
            "Epoch 25/30\n",
            "\u001b[1m9/9\u001b[0m \u001b[32m━━━━━━━━━━━━━━━━━━━━\u001b[0m\u001b[37m\u001b[0m \u001b[1m1s\u001b[0m 100ms/step - accuracy: 0.6266 - loss: 0.6350 - val_accuracy: 0.4857 - val_loss: 0.7120\n",
            "Epoch 26/30\n",
            "\u001b[1m9/9\u001b[0m \u001b[32m━━━━━━━━━━━━━━━━━━━━\u001b[0m\u001b[37m\u001b[0m \u001b[1m1s\u001b[0m 95ms/step - accuracy: 0.6672 - loss: 0.6098 - val_accuracy: 0.4857 - val_loss: 0.7056\n",
            "Epoch 27/30\n",
            "\u001b[1m9/9\u001b[0m \u001b[32m━━━━━━━━━━━━━━━━━━━━\u001b[0m\u001b[37m\u001b[0m \u001b[1m1s\u001b[0m 81ms/step - accuracy: 0.6459 - loss: 0.6004 - val_accuracy: 0.4857 - val_loss: 0.7037\n",
            "Epoch 28/30\n",
            "\u001b[1m9/9\u001b[0m \u001b[32m━━━━━━━━━━━━━━━━━━━━\u001b[0m\u001b[37m\u001b[0m \u001b[1m1s\u001b[0m 78ms/step - accuracy: 0.6777 - loss: 0.6303 - val_accuracy: 0.4571 - val_loss: 0.7032\n",
            "Epoch 29/30\n",
            "\u001b[1m9/9\u001b[0m \u001b[32m━━━━━━━━━━━━━━━━━━━━\u001b[0m\u001b[37m\u001b[0m \u001b[1m1s\u001b[0m 89ms/step - accuracy: 0.5788 - loss: 0.6611 - val_accuracy: 0.4857 - val_loss: 0.7005\n",
            "Epoch 30/30\n",
            "\u001b[1m9/9\u001b[0m \u001b[32m━━━━━━━━━━━━━━━━━━━━\u001b[0m\u001b[37m\u001b[0m \u001b[1m1s\u001b[0m 98ms/step - accuracy: 0.6325 - loss: 0.6271 - val_accuracy: 0.4857 - val_loss: 0.7083\n"
          ]
        }
      ]
    },
    {
      "cell_type": "code",
      "source": [
        "y_pred = model.predict(X_test)\n",
        "y_pred_class = (y_pred > 0.5).astype(int)\n",
        "\n",
        "# Metrics\n",
        "acc = accuracy_score(y_test, y_pred_class)\n",
        "prec = precision_score(y_test, y_pred_class)\n",
        "f1 = f1_score(y_test, y_pred_class)\n",
        "\n",
        "print(f\"✅ Accuracy: {acc:.4f}\")\n",
        "print(f\"✅ Precision: {prec:.4f}\")\n",
        "print(f\"✅ F1 Score: {f1:.4f}\")\n"
      ],
      "metadata": {
        "colab": {
          "base_uri": "https://localhost:8080/"
        },
        "id": "MhChxavBMKoI",
        "outputId": "fe13979c-92be-4056-bf4f-bc4dc6e23704"
      },
      "execution_count": 21,
      "outputs": [
        {
          "output_type": "stream",
          "name": "stdout",
          "text": [
            "\u001b[1m2/2\u001b[0m \u001b[32m━━━━━━━━━━━━━━━━━━━━\u001b[0m\u001b[37m\u001b[0m \u001b[1m1s\u001b[0m 702ms/step\n",
            "✅ Accuracy: 0.4857\n",
            "✅ Precision: 0.4857\n",
            "✅ F1 Score: 0.6538\n"
          ]
        }
      ]
    },
    {
      "cell_type": "code",
      "source": [
        "cm = confusion_matrix(y_test, y_pred_class)\n",
        "sns.heatmap(cm, annot=True, fmt=\"d\", cmap=\"Blues\")\n",
        "plt.xlabel(\"Predicted\")\n",
        "plt.ylabel(\"Actual\")\n",
        "plt.title(\"LSTM: Confusion Matrix\")\n",
        "plt.show()\n"
      ],
      "metadata": {
        "colab": {
          "base_uri": "https://localhost:8080/",
          "height": 472
        },
        "id": "r2KtzQ5EMNni",
        "outputId": "89ac30c2-804d-4d46-c8c8-e26e0d543d00"
      },
      "execution_count": 22,
      "outputs": [
        {
          "output_type": "display_data",
          "data": {
            "text/plain": [
              "<Figure size 640x480 with 2 Axes>"
            ],
            "image/png": "[encoded data removed]"
          },
          "metadata": {}
        }
      ]
    }
  ]
}